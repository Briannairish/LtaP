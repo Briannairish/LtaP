{
 "cells": [
  {
   "cell_type": "code",
   "execution_count": 74,
   "metadata": {
    "collapsed": true
   },
   "outputs": [],
   "source": [
    "import numpy as np\n",
    "import pandas as pd"
   ]
  },
  {
   "cell_type": "code",
   "execution_count": 2,
   "metadata": {
    "collapsed": true
   },
   "outputs": [],
   "source": [
    "#prev\n",
    "ent = [1,2,3,4,5]\n",
    "max_std = 10\n",
    "max_sci = 30\n",
    "inter_std = [\"computers\", \"plants\", \"chemicals\", \"the environment\", \"rocks\", \"engineering\", \"energy\", \"oceans\",  \"space\", \"the brain\", \"matter\", \"machines\", \"weather\", \"the human body\", \"medicine\", \"cells\", \"animals\", \"something else\"]\n",
    "inter_sci = [\"computers\", \"plants\", \"chemicals\", \"the environment\", \"rocks\", \"engineering\", \"energy\", \"oceans\",  \"space\", \"the brain\", \"matter\", \"machines\", \"weather\", \"the human body\", \"medicine\", \"cells\", \"animals\"]\n",
    "day   = np.arange(1,32,1)\n",
    "month = np.array([7,8])\n",
    "hour  = np.arange(8,22,1)\n",
    "mins  = np.arange(0,60,1)\n",
    "sec   = np.arange(0,60,1)"
   ]
  },
  {
   "cell_type": "code",
   "execution_count": 65,
   "metadata": {},
   "outputs": [],
   "source": [
    "#student data\n",
    "ent_list = []\n",
    "inter_list = []\n",
    "names_list = []\n",
    "\n",
    "for i1 in range(max_std):\n",
    "    ent_list.append(np.random.choice(ent))\n",
    "    inter_list.append(np.random.choice(inter_std))\n",
    "    names_list.append(\"student n:\" + str(i1))\n",
    "mock_std = np.array((names_list,ent_list,inter_list)).T    "
   ]
  },
  {
   "cell_type": "code",
   "execution_count": 68,
   "metadata": {},
   "outputs": [],
   "source": [
    "#scientist data\n",
    "inter_list1 = []\n",
    "inter_list2 = []\n",
    "names_list = []\n",
    "\n",
    "time_stamp_list = []\n",
    "for i1 in range(max_sci):\n",
    "    time_stamp_list.append(\"2017-\"+str(np.random.choice(month))+ \"-\" + str(np.random.choice(day))+ \" \"+ str(np.random.choice(hour))+ \":\"+str(np.random.choice(mins))+\":\"+str(np.random.choice(sec)))\n",
    "    inter1 = np.random.choice(inter_sci)\n",
    "    inter2 = np.random.choice(inter_sci)    \n",
    "    inter_list1.append(inter1)\n",
    "    if inter1 == inter2:\n",
    "        inter_list2.append(\"\")\n",
    "    else:\n",
    "        inter_list2.append(inter2)        \n",
    "    names_list.append(\"scientist n:\"+str(i1))\n",
    "mock_sci = np.array((names_list,time_stamp_list,inter_list1,inter_list2)).T    "
   ]
  },
  {
   "cell_type": "code",
   "execution_count": 71,
   "metadata": {},
   "outputs": [],
   "source": [
    "#export\n",
    "np.savetxt(\"mock_sci_short.csv\",mock_sci,header=\"Name,time_stamp,field1,field2\",delimiter=\",\",fmt=\"%s\")\n",
    "np.savetxt(\"mock_std_short.csv\",mock_std,header=\"Name,enthusiasm,field\",delimiter=\",\",fmt=\"%s\")"
   ]
  }
 ],
 "metadata": {
  "kernelspec": {
   "display_name": "Python 3",
   "language": "python",
   "name": "python3"
  },
  "language_info": {
   "codemirror_mode": {
    "name": "ipython",
    "version": 3
   },
   "file_extension": ".py",
   "mimetype": "text/x-python",
   "name": "python",
   "nbconvert_exporter": "python",
   "pygments_lexer": "ipython3",
   "version": "3.6.1"
  }
 },
 "nbformat": 4,
 "nbformat_minor": 2
}
