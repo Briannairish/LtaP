{
 "cells": [
  {
   "cell_type": "markdown",
   "metadata": {},
   "source": [
    "# This notebook will go through how we match up students to real scientists based on their science interests. This code is heavily based on collaboratr, a project developed at Astro Hack Week.\n",
    "\n",
    "# Check it out here: github.com/benelson/collaboratr\n",
    "\n",
    "# <span style=\"color:red\"> Here, we will use real Letters to a Prescientist form data. </span>"
   ]
  },
  {
   "cell_type": "code",
   "execution_count": 2,
   "metadata": {
    "collapsed": false
   },
   "outputs": [
    {
     "name": "stdout",
     "output_type": "stream",
     "text": [
      "Requirement already satisfied: nxpd in /home/christina/anaconda2/lib/python2.7/site-packages\r\n",
      "Requirement already satisfied: networkx>=1.6 in /home/christina/anaconda2/lib/python2.7/site-packages (from nxpd)\r\n",
      "Requirement already satisfied: pyparsing>=2.0.1 in /home/christina/anaconda2/lib/python2.7/site-packages (from nxpd)\r\n",
      "Requirement already satisfied: decorator>=3.4.0 in /home/christina/anaconda2/lib/python2.7/site-packages (from networkx>=1.6->nxpd)\r\n"
     ]
    }
   ],
   "source": [
    "!pip install nxpd"
   ]
  },
  {
   "cell_type": "code",
   "execution_count": 1,
   "metadata": {
    "collapsed": false
   },
   "outputs": [],
   "source": [
    "%matplotlib inline\n",
    "\n",
    "import matplotlib.pyplot as plt\n",
    "import networkx as nx\n",
    "import pandas as pd\n",
    "import numpy as np\n",
    "from operator import truediv\n",
    "from collections import Counter\n",
    "import itertools\n",
    "import random\n",
    "import collaboratr\n",
    "\n",
    "#from nxpd import draw\n",
    "#import nxpd\n",
    "\n",
    "\n",
    "\n",
    "#reload(collaboratr)"
   ]
  },
  {
   "cell_type": "markdown",
   "metadata": {},
   "source": [
    "# Step 1 Create a Google Form with these questions:\n",
    "    1. What is your name? [text entry]\n",
    "    2. What is your gender? [multiple choice]\n",
    "    3. What are your general science interests? [checkboxes]\n",
    "    \n",
    "I can ask for other information from the students (e.g., grade, school name) and scientists (email).\n",
    "\n",
    "After receiving the responses, load up the CSV of responses from the Google Form by running the cell below (you'll have to change the path to your own CSV)."
   ]
  },
  {
   "cell_type": "code",
   "execution_count": 2,
   "metadata": {
    "collapsed": false
   },
   "outputs": [],
   "source": [
    "def format_name(data):\n",
    "    first_name = ['-'.join(list(map(str.capitalize,d))) for d in data['Name'].str.replace(\" \", \"-\").str.split('-')]\n",
    "    last_name = ['-'.join(list(map(str.capitalize,d))) for d in data['Last'].str.replace(\" \", \"-\").str.split('-')]\n",
    "    full_name = pd.Series([m+\" \"+n for m,n in zip(first_name,last_name)])\n",
    "    \n",
    "    return full_name\n",
    "    "
   ]
  },
  {
   "cell_type": "code",
   "execution_count": 10,
   "metadata": {
    "collapsed": false
   },
   "outputs": [],
   "source": [
    "# Retrieve data from Google Sheet and parse using pandas dataframe\n",
    "student_data = pd.read_csv(\"students.csv\")\n",
    "student_data = student_data.replace(np.nan,' ', regex=True)\n",
    "\n",
    "# Store student information in variables.\n",
    "#\n",
    "# Collaboratr divided people into \"learners\" and \"teachers\" based on what they wanted to \"learn\" and \"teach.\"\n",
    "# Here, students are always \"learners\" by default and the scientists are always \"teachers.\"\n",
    "# To maintain the structure of the pandas dataframe,\n",
    "# I've created blank values for what students want to \"teach\" and what scientists want to \"learn.\"\n",
    "\n",
    "### write a function that would format names (including hyphens)\n",
    "student_data['Full Name'] = format_name(student_data) \n",
    "student_names = student_data['Full Name']\n",
    "nStudents = len(student_names)\n",
    "\n",
    "student_learn = student_data['If I could be any type of scientist when I grow up, I would want to study:']\n",
    "student_teach = pd.Series([\"\" for i in range (nStudents)], index=[i for i in range(nStudents)])\n",
    "student_email = pd.Series([\"\" for i in range (nStudents)], index=[i for i in range(nStudents)])\n",
    "\n",
    "# Store scientist information in variables.\n",
    "scientist_data = pd.read_csv(\"scientists_1.csv\")\n",
    "scientist_data = scientist_data.replace(np.nan,' ', regex=True)\n",
    "\n",
    "#drop any duplicate email entries in the data frame\n",
    "drop = np.where(scientist_data.duplicated('Email')==True)[0]\n",
    "temp = scientist_data.drop(scientist_data.index[drop])\n",
    "scientist_data = temp\n",
    "\n",
    "scientist_data['Full Name'] = format_name(scientist_data) \n",
    "scientist_names = scientist_data['Full Name']\n",
    "nScientists = len(scientist_names)\n",
    "\n",
    "scientist_learn = pd.Series([\"\" for i in range (nScientists)], index=[i for i in range(nScientists)])\n",
    "scientist_teach = scientist_data['We will match you with a pen pal who has expressed an interest in at least one of the following subjects. Which topic is most relevant to your work?']\n",
    "scientist_email = scientist_data['Email']"
   ]
  },
  {
   "cell_type": "code",
   "execution_count": 181,
   "metadata": {
    "collapsed": false
   },
   "outputs": [
    {
     "name": "stdout",
     "output_type": "stream",
     "text": [
      "[]\n"
     ]
    }
   ],
   "source": [
    "#drop any duplicate email entries in the data frame\n",
    "drop = np.where(scientist_data.duplicated('Full Name')==True)[0]\n",
    "temp = scientist_data.drop(scientist_data.index[drop])\n",
    "scientist_data = temp"
   ]
  },
  {
   "cell_type": "markdown",
   "metadata": {},
   "source": [
    "# Step 2: Merge the student and scientist dataframes"
   ]
  },
  {
   "cell_type": "code",
   "execution_count": 8,
   "metadata": {
    "collapsed": false
   },
   "outputs": [],
   "source": [
    "names = student_names.append(scientist_names, ignore_index=True)\n",
    "learn = student_learn.append(scientist_learn, ignore_index=True)\n",
    "teach = student_teach.append(scientist_teach, ignore_index=True)\n",
    "emails = student_email.append(scientist_email, ignore_index=True)"
   ]
  },
  {
   "cell_type": "code",
   "execution_count": 9,
   "metadata": {
    "collapsed": true
   },
   "outputs": [],
   "source": [
    "G = nx.DiGraph()"
   ]
  },
  {
   "cell_type": "markdown",
   "metadata": {},
   "source": [
    "# Step 3: Assign scientists to students\n",
    "\n",
    "I thought about several ways to do this. Each student has a \"pool\" of scientists to be assigned to based on their interests. This was a non-trivial problem. I try to have no more than 2 students assigned to each scientist, working with a limited dataset of roughly 20 scientists and 30 students. Most scientists come from astronomy/physics or psychology/neuroscience. Here are my attempts to do just that:\n",
    "\n",
    "1. For each student, randomly draw from their \"pool\" of scientists with matching interests. This typically caused the more \"underrepresented\" scientists to get oversubscribed quickly, e.g., having one biologist and having many students interested in biology. This didn't help for students who had limited interests. If I couldn't match everyone up, I'd try again with different random draws. Couldn't find a solution for the conditions listed above. Maybe this would work better if we had a nScientists > nStudents.\n",
    "\n",
    "2. Start with the \"least popular\" topic, that is the topic where the student-to-scientist ratio is smallest. Loop through the students with those interests and try to match them to a scientist. Then, we work are way up the list until we get to the most popular topic. This approach worked much better."
   ]
  },
  {
   "cell_type": "code",
   "execution_count": 43,
   "metadata": {
    "collapsed": false
   },
   "outputs": [],
   "source": [
    "# Insert users in graphs\n",
    "for n,e,l,t in zip(names, emails, learn, teach):\n",
    "    collaboratr.insert_node(G,n, email=e, learn=l.split(';'), teach=t.split(';'))"
   ]
  },
  {
   "cell_type": "code",
   "execution_count": null,
   "metadata": {
    "collapsed": false
   },
   "outputs": [],
   "source": []
  },
  {
   "cell_type": "code",
   "execution_count": null,
   "metadata": {
    "collapsed": false
   },
   "outputs": [],
   "source": []
  },
  {
   "cell_type": "code",
   "execution_count": null,
   "metadata": {
    "collapsed": true
   },
   "outputs": [],
   "source": []
  },
  {
   "cell_type": "code",
   "execution_count": null,
   "metadata": {
    "collapsed": true
   },
   "outputs": [],
   "source": []
  },
  {
   "cell_type": "code",
   "execution_count": null,
   "metadata": {
    "collapsed": true
   },
   "outputs": [],
   "source": []
  },
  {
   "cell_type": "code",
   "execution_count": 74,
   "metadata": {
    "collapsed": false
   },
   "outputs": [],
   "source": [
    "def sort_things(stu_data, sci_data):\n",
    "    num_interests = {}\n",
    "    \n",
    "    for i,r in stu_data.iterrows():\n",
    "        name = r['Name'].capitalize() + \" \" + r['Last'].capitalize()\n",
    "        num_interests = { name: 1 }\n",
    "\n",
    "    print(num_interests)\n",
    "    stu_names_sorted = sorted(num_interests, key=num_interests.get)\n",
    "    print(stu_names_sorted)\n",
    "    \n",
    "    interests_stu = Counter(list(itertools.chain.from_iterable(\\\n",
    "                [ i.split(';') for i in stu_data['If I could be any type of scientist when I grow up, I would want to study:'] ])))\n",
    "    interests_sci = Counter(list(itertools.chain.from_iterable(\\\n",
    "                [ i.split(';') for i in sci_data['We will match you with a pen pal who has expressed an interest in at least one of the following subjects. Which topic is most relevant to your work?'] ])))\n",
    "\n",
    "    interests_rel = { key: interests_stu[key]/interests_sci[key] for key in interests_sci.keys() }\n",
    "    interests_rel_sorted = sorted(interests_rel, key=interests_rel.get)\n",
    "    \n",
    "    return interests_rel_sorted, stu_names_sorted\n",
    "\n",
    "def assigner(assign, stu_data, sci_data, max_students=2):\n",
    "    assign_one = {}\n",
    "    subscriptions = { n: 0 for n in sci_data['What is your name?'] }\n",
    "\n",
    "    interests_rel_sorted, stu_names_sorted = sort_things(stu_data, sci_data)\n",
    "    \n",
    "    for key in interests_rel_sorted:\n",
    "        for name in stu_names_sorted:\n",
    "            if name not in assign_one:\n",
    "                if key in assign[name].keys():\n",
    "                    try:\n",
    "                        scientist = np.random.choice(assign[name][key])\n",
    "                    except ValueError:\n",
    "                        scientist = np.random.choice(scientist_data['What is your name?'])\n",
    "                    assign_one[name] = scientist\n",
    "\n",
    "                    subscriptions[scientist] += 1\n",
    "\n",
    "                    if subscriptions[scientist]>=max_students:\n",
    "                        for kk,vv in assign.items():\n",
    "                            if vv:\n",
    "                                for k,v in vv.items():\n",
    "                                    if scientist in v:\n",
    "                                        v.remove(scientist)\n",
    "                                        \n",
    "    for name in stu_names_sorted:\n",
    "        if name not in assign_one:\n",
    "            scientist = np.random.choice([ k for k,v in subscriptions.items() if v < max_students ])\n",
    "            assign_one[name] = scientist\n",
    "            \n",
    "    return assign_one"
   ]
  },
  {
   "cell_type": "code",
   "execution_count": 47,
   "metadata": {
    "collapsed": false
   },
   "outputs": [
    {
     "ename": "KeyError",
     "evalue": "'What is your name?'",
     "output_type": "error",
     "traceback": [
      "\u001b[0;31m---------------------------------------------------------------------------\u001b[0m",
      "\u001b[0;31mKeyError\u001b[0m                                  Traceback (most recent call last)",
      "\u001b[0;32m//anaconda/lib/python3.5/site-packages/pandas/core/indexes/base.py\u001b[0m in \u001b[0;36mget_loc\u001b[0;34m(self, key, method, tolerance)\u001b[0m\n\u001b[1;32m   2392\u001b[0m             \u001b[0;32mtry\u001b[0m\u001b[0;34m:\u001b[0m\u001b[0;34m\u001b[0m\u001b[0m\n\u001b[0;32m-> 2393\u001b[0;31m                 \u001b[0;32mreturn\u001b[0m \u001b[0mself\u001b[0m\u001b[0;34m.\u001b[0m\u001b[0m_engine\u001b[0m\u001b[0;34m.\u001b[0m\u001b[0mget_loc\u001b[0m\u001b[0;34m(\u001b[0m\u001b[0mkey\u001b[0m\u001b[0;34m)\u001b[0m\u001b[0;34m\u001b[0m\u001b[0m\n\u001b[0m\u001b[1;32m   2394\u001b[0m             \u001b[0;32mexcept\u001b[0m \u001b[0mKeyError\u001b[0m\u001b[0;34m:\u001b[0m\u001b[0;34m\u001b[0m\u001b[0m\n",
      "\u001b[0;32mpandas/_libs/index.pyx\u001b[0m in \u001b[0;36mpandas._libs.index.IndexEngine.get_loc (pandas/_libs/index.c:5239)\u001b[0;34m()\u001b[0m\n",
      "\u001b[0;32mpandas/_libs/index.pyx\u001b[0m in \u001b[0;36mpandas._libs.index.IndexEngine.get_loc (pandas/_libs/index.c:5085)\u001b[0;34m()\u001b[0m\n",
      "\u001b[0;32mpandas/_libs/hashtable_class_helper.pxi\u001b[0m in \u001b[0;36mpandas._libs.hashtable.PyObjectHashTable.get_item (pandas/_libs/hashtable.c:20405)\u001b[0;34m()\u001b[0m\n",
      "\u001b[0;32mpandas/_libs/hashtable_class_helper.pxi\u001b[0m in \u001b[0;36mpandas._libs.hashtable.PyObjectHashTable.get_item (pandas/_libs/hashtable.c:20359)\u001b[0;34m()\u001b[0m\n",
      "\u001b[0;31mKeyError\u001b[0m: 'What is your name?'",
      "\nDuring handling of the above exception, another exception occurred:\n",
      "\u001b[0;31mKeyError\u001b[0m                                  Traceback (most recent call last)",
      "\u001b[0;32m<ipython-input-47-9dc85487fce1>\u001b[0m in \u001b[0;36m<module>\u001b[0;34m()\u001b[0m\n\u001b[1;32m      6\u001b[0m         \u001b[0mparticipants\u001b[0m \u001b[0;34m=\u001b[0m \u001b[0mG\u001b[0m\u001b[0;34m.\u001b[0m\u001b[0mnodes\u001b[0m\u001b[0;34m(\u001b[0m\u001b[0mdata\u001b[0m\u001b[0;34m=\u001b[0m\u001b[0;32mTrue\u001b[0m\u001b[0;34m)\u001b[0m\u001b[0;34m\u001b[0m\u001b[0m\n\u001b[1;32m      7\u001b[0m         \u001b[0massign\u001b[0m \u001b[0;34m=\u001b[0m \u001b[0mcollaboratr\u001b[0m\u001b[0;34m.\u001b[0m\u001b[0massign_users\u001b[0m\u001b[0;34m(\u001b[0m\u001b[0mG\u001b[0m\u001b[0;34m,\u001b[0m\u001b[0mparticipants\u001b[0m\u001b[0;34m)\u001b[0m\u001b[0;34m\u001b[0m\u001b[0m\n\u001b[0;32m----> 8\u001b[0;31m         \u001b[0massign_one\u001b[0m \u001b[0;34m=\u001b[0m \u001b[0massigner\u001b[0m\u001b[0;34m(\u001b[0m\u001b[0massign\u001b[0m\u001b[0;34m,\u001b[0m \u001b[0mstudent_data\u001b[0m\u001b[0;34m,\u001b[0m \u001b[0mscientist_data\u001b[0m\u001b[0;34m,\u001b[0m \u001b[0mmax_students\u001b[0m\u001b[0;34m=\u001b[0m\u001b[0mmax_students\u001b[0m\u001b[0;34m)\u001b[0m\u001b[0;34m\u001b[0m\u001b[0m\n\u001b[0m\u001b[1;32m      9\u001b[0m         \u001b[0;32mif\u001b[0m \u001b[0mmax\u001b[0m\u001b[0;34m(\u001b[0m\u001b[0mCounter\u001b[0m\u001b[0;34m(\u001b[0m\u001b[0;34m[\u001b[0m\u001b[0mv\u001b[0m \u001b[0;32mfor\u001b[0m \u001b[0mk\u001b[0m\u001b[0;34m,\u001b[0m\u001b[0mv\u001b[0m \u001b[0;32min\u001b[0m \u001b[0massign_one\u001b[0m\u001b[0;34m.\u001b[0m\u001b[0mitems\u001b[0m\u001b[0;34m(\u001b[0m\u001b[0;34m)\u001b[0m\u001b[0;34m]\u001b[0m\u001b[0;34m)\u001b[0m\u001b[0;34m.\u001b[0m\u001b[0mvalues\u001b[0m\u001b[0;34m(\u001b[0m\u001b[0;34m)\u001b[0m\u001b[0;34m)\u001b[0m\u001b[0;34m>\u001b[0m\u001b[0mmax_students\u001b[0m\u001b[0;34m:\u001b[0m\u001b[0;34m\u001b[0m\u001b[0m\n\u001b[1;32m     10\u001b[0m             \u001b[0massign_one\u001b[0m \u001b[0;34m=\u001b[0m \u001b[0;32mNone\u001b[0m\u001b[0;34m\u001b[0m\u001b[0m\n",
      "\u001b[0;32m<ipython-input-46-c1880aec49ec>\u001b[0m in \u001b[0;36massigner\u001b[0;34m(assign, stu_data, sci_data, max_students)\u001b[0m\n\u001b[1;32m     13\u001b[0m \u001b[0;32mdef\u001b[0m \u001b[0massigner\u001b[0m\u001b[0;34m(\u001b[0m\u001b[0massign\u001b[0m\u001b[0;34m,\u001b[0m \u001b[0mstu_data\u001b[0m\u001b[0;34m,\u001b[0m \u001b[0msci_data\u001b[0m\u001b[0;34m,\u001b[0m \u001b[0mmax_students\u001b[0m\u001b[0;34m=\u001b[0m\u001b[0;36m2\u001b[0m\u001b[0;34m)\u001b[0m\u001b[0;34m:\u001b[0m\u001b[0;34m\u001b[0m\u001b[0m\n\u001b[1;32m     14\u001b[0m     \u001b[0massign_one\u001b[0m \u001b[0;34m=\u001b[0m \u001b[0;34m{\u001b[0m\u001b[0;34m}\u001b[0m\u001b[0;34m\u001b[0m\u001b[0m\n\u001b[0;32m---> 15\u001b[0;31m     \u001b[0msubscriptions\u001b[0m \u001b[0;34m=\u001b[0m \u001b[0;34m{\u001b[0m \u001b[0mn\u001b[0m\u001b[0;34m:\u001b[0m \u001b[0;36m0\u001b[0m \u001b[0;32mfor\u001b[0m \u001b[0mn\u001b[0m \u001b[0;32min\u001b[0m \u001b[0msci_data\u001b[0m\u001b[0;34m[\u001b[0m\u001b[0;34m'What is your name?'\u001b[0m\u001b[0;34m]\u001b[0m \u001b[0;34m}\u001b[0m\u001b[0;34m\u001b[0m\u001b[0m\n\u001b[0m\u001b[1;32m     16\u001b[0m \u001b[0;34m\u001b[0m\u001b[0m\n\u001b[1;32m     17\u001b[0m     \u001b[0minterests_rel_sorted\u001b[0m\u001b[0;34m,\u001b[0m \u001b[0mstu_names_sorted\u001b[0m \u001b[0;34m=\u001b[0m \u001b[0msort_things\u001b[0m\u001b[0;34m(\u001b[0m\u001b[0mstu_data\u001b[0m\u001b[0;34m,\u001b[0m \u001b[0msci_data\u001b[0m\u001b[0;34m)\u001b[0m\u001b[0;34m\u001b[0m\u001b[0m\n",
      "\u001b[0;32m//anaconda/lib/python3.5/site-packages/pandas/core/frame.py\u001b[0m in \u001b[0;36m__getitem__\u001b[0;34m(self, key)\u001b[0m\n\u001b[1;32m   2060\u001b[0m             \u001b[0;32mreturn\u001b[0m \u001b[0mself\u001b[0m\u001b[0;34m.\u001b[0m\u001b[0m_getitem_multilevel\u001b[0m\u001b[0;34m(\u001b[0m\u001b[0mkey\u001b[0m\u001b[0;34m)\u001b[0m\u001b[0;34m\u001b[0m\u001b[0m\n\u001b[1;32m   2061\u001b[0m         \u001b[0;32melse\u001b[0m\u001b[0;34m:\u001b[0m\u001b[0;34m\u001b[0m\u001b[0m\n\u001b[0;32m-> 2062\u001b[0;31m             \u001b[0;32mreturn\u001b[0m \u001b[0mself\u001b[0m\u001b[0;34m.\u001b[0m\u001b[0m_getitem_column\u001b[0m\u001b[0;34m(\u001b[0m\u001b[0mkey\u001b[0m\u001b[0;34m)\u001b[0m\u001b[0;34m\u001b[0m\u001b[0m\n\u001b[0m\u001b[1;32m   2063\u001b[0m \u001b[0;34m\u001b[0m\u001b[0m\n\u001b[1;32m   2064\u001b[0m     \u001b[0;32mdef\u001b[0m \u001b[0m_getitem_column\u001b[0m\u001b[0;34m(\u001b[0m\u001b[0mself\u001b[0m\u001b[0;34m,\u001b[0m \u001b[0mkey\u001b[0m\u001b[0;34m)\u001b[0m\u001b[0;34m:\u001b[0m\u001b[0;34m\u001b[0m\u001b[0m\n",
      "\u001b[0;32m//anaconda/lib/python3.5/site-packages/pandas/core/frame.py\u001b[0m in \u001b[0;36m_getitem_column\u001b[0;34m(self, key)\u001b[0m\n\u001b[1;32m   2067\u001b[0m         \u001b[0;31m# get column\u001b[0m\u001b[0;34m\u001b[0m\u001b[0;34m\u001b[0m\u001b[0m\n\u001b[1;32m   2068\u001b[0m         \u001b[0;32mif\u001b[0m \u001b[0mself\u001b[0m\u001b[0;34m.\u001b[0m\u001b[0mcolumns\u001b[0m\u001b[0;34m.\u001b[0m\u001b[0mis_unique\u001b[0m\u001b[0;34m:\u001b[0m\u001b[0;34m\u001b[0m\u001b[0m\n\u001b[0;32m-> 2069\u001b[0;31m             \u001b[0;32mreturn\u001b[0m \u001b[0mself\u001b[0m\u001b[0;34m.\u001b[0m\u001b[0m_get_item_cache\u001b[0m\u001b[0;34m(\u001b[0m\u001b[0mkey\u001b[0m\u001b[0;34m)\u001b[0m\u001b[0;34m\u001b[0m\u001b[0m\n\u001b[0m\u001b[1;32m   2070\u001b[0m \u001b[0;34m\u001b[0m\u001b[0m\n\u001b[1;32m   2071\u001b[0m         \u001b[0;31m# duplicate columns & possible reduce dimensionality\u001b[0m\u001b[0;34m\u001b[0m\u001b[0;34m\u001b[0m\u001b[0m\n",
      "\u001b[0;32m//anaconda/lib/python3.5/site-packages/pandas/core/generic.py\u001b[0m in \u001b[0;36m_get_item_cache\u001b[0;34m(self, item)\u001b[0m\n\u001b[1;32m   1532\u001b[0m         \u001b[0mres\u001b[0m \u001b[0;34m=\u001b[0m \u001b[0mcache\u001b[0m\u001b[0;34m.\u001b[0m\u001b[0mget\u001b[0m\u001b[0;34m(\u001b[0m\u001b[0mitem\u001b[0m\u001b[0;34m)\u001b[0m\u001b[0;34m\u001b[0m\u001b[0m\n\u001b[1;32m   1533\u001b[0m         \u001b[0;32mif\u001b[0m \u001b[0mres\u001b[0m \u001b[0;32mis\u001b[0m \u001b[0;32mNone\u001b[0m\u001b[0;34m:\u001b[0m\u001b[0;34m\u001b[0m\u001b[0m\n\u001b[0;32m-> 1534\u001b[0;31m             \u001b[0mvalues\u001b[0m \u001b[0;34m=\u001b[0m \u001b[0mself\u001b[0m\u001b[0;34m.\u001b[0m\u001b[0m_data\u001b[0m\u001b[0;34m.\u001b[0m\u001b[0mget\u001b[0m\u001b[0;34m(\u001b[0m\u001b[0mitem\u001b[0m\u001b[0;34m)\u001b[0m\u001b[0;34m\u001b[0m\u001b[0m\n\u001b[0m\u001b[1;32m   1535\u001b[0m             \u001b[0mres\u001b[0m \u001b[0;34m=\u001b[0m \u001b[0mself\u001b[0m\u001b[0;34m.\u001b[0m\u001b[0m_box_item_values\u001b[0m\u001b[0;34m(\u001b[0m\u001b[0mitem\u001b[0m\u001b[0;34m,\u001b[0m \u001b[0mvalues\u001b[0m\u001b[0;34m)\u001b[0m\u001b[0;34m\u001b[0m\u001b[0m\n\u001b[1;32m   1536\u001b[0m             \u001b[0mcache\u001b[0m\u001b[0;34m[\u001b[0m\u001b[0mitem\u001b[0m\u001b[0;34m]\u001b[0m \u001b[0;34m=\u001b[0m \u001b[0mres\u001b[0m\u001b[0;34m\u001b[0m\u001b[0m\n",
      "\u001b[0;32m//anaconda/lib/python3.5/site-packages/pandas/core/internals.py\u001b[0m in \u001b[0;36mget\u001b[0;34m(self, item, fastpath)\u001b[0m\n\u001b[1;32m   3588\u001b[0m \u001b[0;34m\u001b[0m\u001b[0m\n\u001b[1;32m   3589\u001b[0m             \u001b[0;32mif\u001b[0m \u001b[0;32mnot\u001b[0m \u001b[0misnull\u001b[0m\u001b[0;34m(\u001b[0m\u001b[0mitem\u001b[0m\u001b[0;34m)\u001b[0m\u001b[0;34m:\u001b[0m\u001b[0;34m\u001b[0m\u001b[0m\n\u001b[0;32m-> 3590\u001b[0;31m                 \u001b[0mloc\u001b[0m \u001b[0;34m=\u001b[0m \u001b[0mself\u001b[0m\u001b[0;34m.\u001b[0m\u001b[0mitems\u001b[0m\u001b[0;34m.\u001b[0m\u001b[0mget_loc\u001b[0m\u001b[0;34m(\u001b[0m\u001b[0mitem\u001b[0m\u001b[0;34m)\u001b[0m\u001b[0;34m\u001b[0m\u001b[0m\n\u001b[0m\u001b[1;32m   3591\u001b[0m             \u001b[0;32melse\u001b[0m\u001b[0;34m:\u001b[0m\u001b[0;34m\u001b[0m\u001b[0m\n\u001b[1;32m   3592\u001b[0m                 \u001b[0mindexer\u001b[0m \u001b[0;34m=\u001b[0m \u001b[0mnp\u001b[0m\u001b[0;34m.\u001b[0m\u001b[0marange\u001b[0m\u001b[0;34m(\u001b[0m\u001b[0mlen\u001b[0m\u001b[0;34m(\u001b[0m\u001b[0mself\u001b[0m\u001b[0;34m.\u001b[0m\u001b[0mitems\u001b[0m\u001b[0;34m)\u001b[0m\u001b[0;34m)\u001b[0m\u001b[0;34m[\u001b[0m\u001b[0misnull\u001b[0m\u001b[0;34m(\u001b[0m\u001b[0mself\u001b[0m\u001b[0;34m.\u001b[0m\u001b[0mitems\u001b[0m\u001b[0;34m)\u001b[0m\u001b[0;34m]\u001b[0m\u001b[0;34m\u001b[0m\u001b[0m\n",
      "\u001b[0;32m//anaconda/lib/python3.5/site-packages/pandas/core/indexes/base.py\u001b[0m in \u001b[0;36mget_loc\u001b[0;34m(self, key, method, tolerance)\u001b[0m\n\u001b[1;32m   2393\u001b[0m                 \u001b[0;32mreturn\u001b[0m \u001b[0mself\u001b[0m\u001b[0;34m.\u001b[0m\u001b[0m_engine\u001b[0m\u001b[0;34m.\u001b[0m\u001b[0mget_loc\u001b[0m\u001b[0;34m(\u001b[0m\u001b[0mkey\u001b[0m\u001b[0;34m)\u001b[0m\u001b[0;34m\u001b[0m\u001b[0m\n\u001b[1;32m   2394\u001b[0m             \u001b[0;32mexcept\u001b[0m \u001b[0mKeyError\u001b[0m\u001b[0;34m:\u001b[0m\u001b[0;34m\u001b[0m\u001b[0m\n\u001b[0;32m-> 2395\u001b[0;31m                 \u001b[0;32mreturn\u001b[0m \u001b[0mself\u001b[0m\u001b[0;34m.\u001b[0m\u001b[0m_engine\u001b[0m\u001b[0;34m.\u001b[0m\u001b[0mget_loc\u001b[0m\u001b[0;34m(\u001b[0m\u001b[0mself\u001b[0m\u001b[0;34m.\u001b[0m\u001b[0m_maybe_cast_indexer\u001b[0m\u001b[0;34m(\u001b[0m\u001b[0mkey\u001b[0m\u001b[0;34m)\u001b[0m\u001b[0;34m)\u001b[0m\u001b[0;34m\u001b[0m\u001b[0m\n\u001b[0m\u001b[1;32m   2396\u001b[0m \u001b[0;34m\u001b[0m\u001b[0m\n\u001b[1;32m   2397\u001b[0m         \u001b[0mindexer\u001b[0m \u001b[0;34m=\u001b[0m \u001b[0mself\u001b[0m\u001b[0;34m.\u001b[0m\u001b[0mget_indexer\u001b[0m\u001b[0;34m(\u001b[0m\u001b[0;34m[\u001b[0m\u001b[0mkey\u001b[0m\u001b[0;34m]\u001b[0m\u001b[0;34m,\u001b[0m \u001b[0mmethod\u001b[0m\u001b[0;34m=\u001b[0m\u001b[0mmethod\u001b[0m\u001b[0;34m,\u001b[0m \u001b[0mtolerance\u001b[0m\u001b[0;34m=\u001b[0m\u001b[0mtolerance\u001b[0m\u001b[0;34m)\u001b[0m\u001b[0;34m\u001b[0m\u001b[0m\n",
      "\u001b[0;32mpandas/_libs/index.pyx\u001b[0m in \u001b[0;36mpandas._libs.index.IndexEngine.get_loc (pandas/_libs/index.c:5239)\u001b[0;34m()\u001b[0m\n",
      "\u001b[0;32mpandas/_libs/index.pyx\u001b[0m in \u001b[0;36mpandas._libs.index.IndexEngine.get_loc (pandas/_libs/index.c:5085)\u001b[0;34m()\u001b[0m\n",
      "\u001b[0;32mpandas/_libs/hashtable_class_helper.pxi\u001b[0m in \u001b[0;36mpandas._libs.hashtable.PyObjectHashTable.get_item (pandas/_libs/hashtable.c:20405)\u001b[0;34m()\u001b[0m\n",
      "\u001b[0;32mpandas/_libs/hashtable_class_helper.pxi\u001b[0m in \u001b[0;36mpandas._libs.hashtable.PyObjectHashTable.get_item (pandas/_libs/hashtable.c:20359)\u001b[0;34m()\u001b[0m\n",
      "\u001b[0;31mKeyError\u001b[0m: 'What is your name?'"
     ]
    }
   ],
   "source": [
    "assign_one = None\n",
    "max_students = 2\n",
    "\n",
    "while assign_one is None:\n",
    "    try:\n",
    "        participants = G.nodes(data=True)\n",
    "        assign = collaboratr.assign_users(G,participants)\n",
    "        assign_one = assigner(assign, student_data, scientist_data, max_students=max_students)\n",
    "        if max(Counter([v for k,v in assign_one.items()]).values())>max_students:\n",
    "            assign_one = None\n",
    "\n",
    "    except ValueError:\n",
    "#        print(\"error\")\n",
    "        pass\n",
    "            \n",
    "\n",
    "print(assign_one)\n",
    "print(Counter([v for k,v in assign_one.items()]))"
   ]
  },
  {
   "cell_type": "code",
   "execution_count": 8,
   "metadata": {
    "collapsed": false
   },
   "outputs": [
    {
     "name": "stdout",
     "output_type": "stream",
     "text": [
      "Adam Miller           -> David Jakubczak       who is interested in Astronomy\n",
      "Adam Miller           -> Jose Flores           who is interested in Astronomy;Biology;Chemistry\n",
      "Alex Gurvich          -> Adam                  who is interested in Astronomy;Biology\n",
      "Alex Gurvich          -> Daniel Pesch          who is interested in Biology;Chemistry;Engineering (designing, city planning);Physics;Tecnology\n",
      "Alicia McGeachy       -> James Brenka          who is interested in Chemistry;Volcanic activity/ interactive chemical reactions\n",
      "Alicia McGeachy       -> Kate Padilla          who is interested in Chemistry;Zoology\n",
      "Alissa Baker-Oglesbee -> Mary Grace Guidi      who is interested in Biology;Chemistry;Engineering (designing, city planning);Engineering (factories, industry);Physics;Psychology/neuroscience\n",
      "Ben Nelson            -> Dallas Thurman        who is interested in Astronomy;Chemistry\n",
      "Ben Nelson            -> Kristina              who is interested in Astronomy\n",
      "Eve Chase             -> Daniel Perez          who is interested in Astronomy\n",
      "Eve Chase             -> Sarah                 who is interested in Astronomy;Engineering (designing, city planning);Physics\n",
      "Hollen Reischer       -> Leila Barszcz         who is interested in Biology;Chemistry;Physics;Psychology/neuroscience\n",
      "Jackie Ng             -> Christian             who is interested in Engineering (designing, city planning);Engineering (factories, industry)\n",
      "Jackie Ng             -> Natalia Kowalewska    who is interested in Astronomy;Chemistry;Engineering (designing, city planning)\n",
      "Katie Breivik         -> Eloise Park           who is interested in Astronomy;Biology;Chemistry;Physics\n",
      "Katie Breivik         -> Josh Schmidt          who is interested in Astronomy;Biology;Physics\n",
      "Kyle Kremer           -> Burak Agar            who is interested in Astronomy;Engineering (designing, city planning)\n",
      "Kyle Kremer           -> Noah Padilla          who is interested in Astronomy;Biology;Geology\n",
      "Laura Shanahan        -> Dawn Pendon           who is interested in Astronomy;Engineering (designing, city planning);Geology\n",
      "Michael Katz          -> Konrad Lukasiewicz    who is interested in Astronomy;Physics\n",
      "Michael Katz          -> Leo Thompson          who is interested in Astronomy;Chemistry;Physics\n",
      "Mike Hyland           -> Maribella Espino      who is interested in Engineering (designing, city planning)\n",
      "Mike Hyland           -> Marissa Sanchez       who is interested in Engineering (designing, city planning);Geology\n",
      "Mike Zevin            -> Alexander Yabes       who is interested in Astronomy;Engineering (designing, city planning)\n",
      "Mike Zevin            -> Matthew Gomez         who is interested in Astronomy;Chemistry;Engineering (designing, city planning);Geology;Physics\n",
      "Rachel Watson         -> Julia Wodzien         who is interested in Biology;Geology;ecology\n",
      "Schnaude Dorizan      -> Aaquib Mohsin         who is interested in Paleontology \n",
      "Schnaude Dorizan      -> Miles                 who is interested in Biology;Marine science\n",
      "Shi Ye                -> Aleksandar Dale       who is interested in Astronomy;Biology\n",
      "Shi Ye                -> Daniela Salazar       who is interested in Astronomy;Chemistry\n"
     ]
    }
   ],
   "source": [
    "items = []\n",
    "\n",
    "for k,v in assign_one.items():\n",
    "    items.append(str(v.ljust(22) + \"-> \" + k.ljust(22) + \"who is interested in \" \\\n",
    "                     + student_data.loc[student_data['What is your name?'] == k]\\\n",
    "                     ['What general science fields are you interested in?'].tolist()[0] ))\n",
    "    \n",
    "for i in sorted(items):\n",
    "    print(i)"
   ]
  },
  {
   "cell_type": "code",
   "execution_count": 75,
   "metadata": {
    "collapsed": false
   },
   "outputs": [
    {
     "name": "stdout",
     "output_type": "stream",
     "text": [
      "{'Angelena Depalma': 1}\n",
      "['Angelena Depalma']\n",
      "['genes', 'the environment', 'cells', 'oceans', 'the brain', 'medicine', 'rocks', 'chemicals', 'computers', 'animals'] ['Angelena Depalma']\n"
     ]
    }
   ],
   "source": [
    "a, b = sort_things(student_data, scientist_data)\n",
    "print(a, b)"
   ]
  },
  {
   "cell_type": "code",
   "execution_count": null,
   "metadata": {
    "collapsed": true
   },
   "outputs": [],
   "source": []
  }
 ],
 "metadata": {
  "kernelspec": {
   "display_name": "Python 3",
   "language": "python",
   "name": "python3"
  },
  "language_info": {
   "codemirror_mode": {
    "name": "ipython",
    "version": 3
   },
   "file_extension": ".py",
   "mimetype": "text/x-python",
   "name": "python",
   "nbconvert_exporter": "python",
   "pygments_lexer": "ipython3",
   "version": "3.6.0"
  }
 },
 "nbformat": 4,
 "nbformat_minor": 0
}
